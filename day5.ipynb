{
  "nbformat": 4,
  "nbformat_minor": 0,
  "metadata": {
    "colab": {
      "provenance": []
    },
    "kernelspec": {
      "name": "python3",
      "display_name": "Python 3"
    },
    "language_info": {
      "name": "python"
    }
  },
  "cells": [
    {
      "cell_type": "code",
      "execution_count": 1,
      "metadata": {
        "id": "x0S0N1SWPn7e",
        "colab": {
          "base_uri": "https://localhost:8080/"
        },
        "outputId": "8e260c69-b3a5-43ec-c8fa-4e1b99420ef7"
      },
      "outputs": [
        {
          "output_type": "stream",
          "name": "stdout",
          "text": [
            "Enter a positive integer: 2\n",
            "1\n",
            "2\n",
            "Sum of numbers from 1 to 2 is: 3\n"
          ]
        }
      ],
      "source": [
        "n = int(input(\"Enter a positive integer: \"))\n",
        "\n",
        "for i in range(1, n + 1):\n",
        "    print(i)\n",
        "\n",
        "sum_value = 0\n",
        "i = 1\n",
        "while i <= n:\n",
        "    sum_value += i\n",
        "    i += 1\n",
        "\n",
        "print(\"Sum of numbers from 1 to\", n, \"is:\", sum_value)\n"
      ]
    }
  ]
}