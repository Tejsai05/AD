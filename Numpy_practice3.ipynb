{
 "cells": [
  {
   "cell_type": "code",
   "execution_count": 2,
   "id": "e5b29ae4-741c-4ba8-851c-2554e21e4afb",
   "metadata": {},
   "outputs": [],
   "source": [
    "import numpy as np"
   ]
  },
  {
   "cell_type": "code",
   "execution_count": 4,
   "id": "b2a25297-31b9-4a31-a1d0-387251a714e7",
   "metadata": {},
   "outputs": [
    {
     "data": {
      "text/plain": [
       "[30, 20, 5, 7, 8, 9]"
      ]
     },
     "execution_count": 4,
     "metadata": {},
     "output_type": "execute_result"
    }
   ],
   "source": [
    "h=[30,20,5,7,8,9]\n",
    "h"
   ]
  },
  {
   "cell_type": "code",
   "execution_count": 8,
   "id": "7c7d5208-5d70-4d02-aa91-20c26e814ab6",
   "metadata": {},
   "outputs": [
    {
     "data": {
      "text/plain": [
       "list"
      ]
     },
     "execution_count": 8,
     "metadata": {},
     "output_type": "execute_result"
    }
   ],
   "source": [
    "type(h)"
   ]
  },
  {
   "cell_type": "code",
   "execution_count": 45,
   "id": "8f24d463-2dd4-4ceb-86fa-73ea17065c0d",
   "metadata": {},
   "outputs": [],
   "source": [
    "#adding number 7 to the given  list\n",
    "d=[]\n",
    "for i in h:\n",
    "    d.append(i+7)"
   ]
  },
  {
   "cell_type": "code",
   "execution_count": 47,
   "id": "b08b98e2-d9a4-4334-abbc-b38edd00f8b7",
   "metadata": {},
   "outputs": [
    {
     "data": {
      "text/plain": [
       "[37, 27, 12, 14, 15, 16]"
      ]
     },
     "execution_count": 47,
     "metadata": {},
     "output_type": "execute_result"
    }
   ],
   "source": [
    "d"
   ]
  },
  {
   "cell_type": "code",
   "execution_count": 49,
   "id": "dd96a49f-7037-4b11-a00a-faaafb46b2bf",
   "metadata": {},
   "outputs": [
    {
     "data": {
      "text/plain": [
       "tuple"
      ]
     },
     "execution_count": 49,
     "metadata": {},
     "output_type": "execute_result"
    }
   ],
   "source": [
    "#squaring numbers in  a tuple\n",
    "#trick:by converting tuple into a list\n",
    "s=(1,3,4,5,6,9)\n",
    "type(s)"
   ]
  },
  {
   "cell_type": "code",
   "execution_count": 53,
   "id": "467c94c9-38a2-4214-93eb-0ee0ba084224",
   "metadata": {},
   "outputs": [],
   "source": [
    "y=list(s)\n",
    "k=[]\n",
    "for i in y:\n",
    "    k.append(i**2)\n",
    "    s=tuple(k)\n"
   ]
  },
  {
   "cell_type": "code",
   "execution_count": 55,
   "id": "bda2e5e2-cc8a-42c9-a7cc-bebb80d1a754",
   "metadata": {},
   "outputs": [
    {
     "data": {
      "text/plain": [
       "(1, 9, 16, 25, 36, 81)"
      ]
     },
     "execution_count": 55,
     "metadata": {},
     "output_type": "execute_result"
    }
   ],
   "source": [
    "s"
   ]
  },
  {
   "cell_type": "code",
   "execution_count": 63,
   "id": "e47b8a6c-8b73-44a1-8741-ad301e3c7ab7",
   "metadata": {},
   "outputs": [],
   "source": [
    "#appending numbers >50 to the list\n",
    "g=[]\n",
    "for i in s:\n",
    "    if i>50:\n",
    "        g.append(i)"
   ]
  },
  {
   "cell_type": "code",
   "execution_count": 65,
   "id": "c523b686-2ee0-4f2e-9ef7-952b13f0f039",
   "metadata": {},
   "outputs": [
    {
     "data": {
      "text/plain": [
       "[81]"
      ]
     },
     "execution_count": 65,
     "metadata": {},
     "output_type": "execute_result"
    }
   ],
   "source": [
    "g"
   ]
  },
  {
   "cell_type": "code",
   "execution_count": 67,
   "id": "87f5e6ef-ae56-4a1e-96d1-da311ad98d06",
   "metadata": {},
   "outputs": [
    {
     "data": {
      "text/plain": [
       "array([28, 38, 48, 58, 68, 78, 88, 98])"
      ]
     },
     "execution_count": 67,
     "metadata": {},
     "output_type": "execute_result"
    }
   ],
   "source": [
    "#adding nums to  arrays\n",
    "#no need of loops for perfo oper\n",
    "arr=np.array([20,30,40,50,60,70,80,90])\n",
    "arr+8"
   ]
  },
  {
   "cell_type": "code",
   "execution_count": 71,
   "id": "f9c58725-3b85-4d57-86ee-ebf4008b22ba",
   "metadata": {},
   "outputs": [
    {
     "data": {
      "text/plain": [
       "array([4, 6, 0, 2, 4, 6, 0, 2])"
      ]
     },
     "execution_count": 71,
     "metadata": {},
     "output_type": "execute_result"
    }
   ],
   "source": [
    "arr%8"
   ]
  },
  {
   "cell_type": "code",
   "execution_count": 73,
   "id": "c5169e92-4b63-41dc-bc8b-dd3e9026e2cb",
   "metadata": {},
   "outputs": [
    {
     "data": {
      "text/plain": [
       "array([ True,  True,  True,  True, False, False, False, False])"
      ]
     },
     "execution_count": 73,
     "metadata": {},
     "output_type": "execute_result"
    }
   ],
   "source": [
    "arr<60"
   ]
  },
  {
   "cell_type": "code",
   "execution_count": 77,
   "id": "3ec86fae-e5d0-4703-89da-c6ce84971306",
   "metadata": {},
   "outputs": [],
   "source": [
    "k=[1,2,3,44,5,56,77]\n",
    "index=[]\n",
    "for i in range(len(k)):\n",
    "    if k[i]>20:\n",
    "        index.append(i)"
   ]
  },
  {
   "cell_type": "code",
   "execution_count": 79,
   "id": "e9b30352-1117-47e5-8bfc-a379ae188b13",
   "metadata": {},
   "outputs": [
    {
     "data": {
      "text/plain": [
       "[3, 5, 6]"
      ]
     },
     "execution_count": 79,
     "metadata": {},
     "output_type": "execute_result"
    }
   ],
   "source": [
    "index"
   ]
  },
  {
   "cell_type": "code",
   "execution_count": 81,
   "id": "9de362c4-cf78-48ce-8585-48a699c9f3ad",
   "metadata": {},
   "outputs": [
    {
     "data": {
      "text/plain": [
       "6"
      ]
     },
     "execution_count": 81,
     "metadata": {},
     "output_type": "execute_result"
    }
   ],
   "source": [
    "i"
   ]
  },
  {
   "cell_type": "code",
   "execution_count": 83,
   "id": "515d0a4e-047d-4bbe-a15b-adcf2e43620e",
   "metadata": {},
   "outputs": [
    {
     "data": {
      "text/plain": [
       "[1, 2, 3, 44, 5, 56, 77]"
      ]
     },
     "execution_count": 83,
     "metadata": {},
     "output_type": "execute_result"
    }
   ],
   "source": [
    "k"
   ]
  },
  {
   "cell_type": "code",
   "execution_count": null,
   "id": "5ecfa381-c9e4-4c2d-b816-477ff4e0e599",
   "metadata": {},
   "outputs": [],
   "source": []
  }
 ],
 "metadata": {
  "kernelspec": {
   "display_name": "Python [conda env:base]",
   "language": "python",
   "name": "conda-base-py"
  },
  "language_info": {
   "codemirror_mode": {
    "name": "ipython",
    "version": 3
   },
   "file_extension": ".py",
   "mimetype": "text/x-python",
   "name": "python",
   "nbconvert_exporter": "python",
   "pygments_lexer": "ipython3",
   "version": "3.12.7"
  }
 },
 "nbformat": 4,
 "nbformat_minor": 5
}
