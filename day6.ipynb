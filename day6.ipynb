{
  "nbformat": 4,
  "nbformat_minor": 0,
  "metadata": {
    "colab": {
      "provenance": []
    },
    "kernelspec": {
      "name": "python3",
      "display_name": "Python 3"
    },
    "language_info": {
      "name": "python"
    }
  },
  "cells": [
    {
      "cell_type": "code",
      "execution_count": 3,
      "metadata": {
        "colab": {
          "base_uri": "https://localhost:8080/"
        },
        "id": "cctaPA6n6xGs",
        "outputId": "b4962b59-8f36-4b75-d5a6-9202c4aecb5f"
      },
      "outputs": [
        {
          "output_type": "stream",
          "name": "stdout",
          "text": [
            "    Name  Age Department  Salary\n",
            "0   John   28         HR   45000\n",
            "1  Alice   34         IT   60000\n",
            "47500.0\n",
            "    Name  Age Department  Salary   Bonus\n",
            "0   John   28         HR   45000  4500.0\n",
            "1  Alice   34         IT   60000  6000.0\n",
            "3  Diana   29    Finance   50000  5000.0\n"
          ]
        }
      ],
      "source": [
        "import pandas as pd\n",
        "\n",
        "data = {\n",
        "    'Name': ['John', 'Alice', 'Bob', 'Diana'],\n",
        "    'Age': [28, 34, 23, 29],\n",
        "    'Department': ['HR', 'IT', 'Marketing', 'Finance'],\n",
        "    'Salary': [45000, 60000, 35000, 50000]\n",
        "}\n",
        "\n",
        "df = pd.DataFrame(data)\n",
        "\n",
        "print(df.head(2))\n",
        "\n",
        "df['Bonus'] = df['Salary'] * 0.1\n",
        "\n",
        "average_salary = df['Salary'].mean()\n",
        "print(average_salary)\n",
        "\n",
        "filtered_df = df[df['Age'] > 25]\n",
        "print(filtered_df)\n"
      ]
    }
  ]
}