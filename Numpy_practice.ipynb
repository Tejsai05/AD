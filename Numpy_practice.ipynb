{
 "cells": [
  {
   "cell_type": "code",
   "execution_count": 3,
   "id": "59881abd-b4a9-4d77-b198-6c1cac031699",
   "metadata": {},
   "outputs": [
    {
     "data": {
      "text/plain": [
       "\"NumPy - array and matrix operations\\npandas - data manipulation  and analysis\\nmatplotlib and seaborn - graphical analysis\\nsklearna & seaborn - ml algos and techniques\\nstatsmodel - statistical  analysis\\nscipy - statistical analysis\\nflask - web framework and Api's \\ndjango -  highleve web  framework\\ntensorflow - dl\\nkeras - nueralnetworks\\nopenCv - image processsing \""
      ]
     },
     "execution_count": 3,
     "metadata": {},
     "output_type": "execute_result"
    }
   ],
   "source": [
    "#NumPy\n",
    "#used for arrays\n",
    "#50 times faster than list\n",
    "\"\"\"NumPy - array and matrix operations\n",
    "pandas - data manipulation  and analysis\n",
    "matplotlib and seaborn - graphical analysis\n",
    "sklearna & seaborn - ml algos and techniques\n",
    "statsmodel - statistical  analysis\n",
    "scipy - statistical analysis\n",
    "flask - web framework and Api's \n",
    "django -  highleve web  framework\n",
    "tensorflow - dl\n",
    "keras - nueralnetworks\n",
    "openCv - image processsing \"\"\""
   ]
  },
  {
   "cell_type": "code",
   "execution_count": 5,
   "id": "39554fb5-2ee0-40df-923f-a2cd9e9e31ee",
   "metadata": {},
   "outputs": [],
   "source": [
    "import numpy as np\n",
    "a=[1,4,57,3,2,9]"
   ]
  },
  {
   "cell_type": "code",
   "execution_count": 9,
   "id": "ce48cf2f-45b1-42fc-94a1-04151604b5fa",
   "metadata": {},
   "outputs": [
    {
     "name": "stdout",
     "output_type": "stream",
     "text": [
      "[ 1  4 57  3  2  9]\n"
     ]
    }
   ],
   "source": [
    "d=np.array(a)\n",
    "print(d)\n",
    "#converting list to arrray"
   ]
  },
  {
   "cell_type": "code",
   "execution_count": 11,
   "id": "a2916dd6-3bc8-42eb-945b-80b50f3c49b1",
   "metadata": {},
   "outputs": [
    {
     "data": {
      "text/plain": [
       "numpy.ndarray"
      ]
     },
     "execution_count": 11,
     "metadata": {},
     "output_type": "execute_result"
    }
   ],
   "source": [
    "type(d)"
   ]
  },
  {
   "cell_type": "code",
   "execution_count": 15,
   "id": "afe25433-7ea0-4648-b04f-853cb7c45ca3",
   "metadata": {},
   "outputs": [
    {
     "data": {
      "text/plain": [
       "(6,)"
      ]
     },
     "execution_count": 15,
     "metadata": {},
     "output_type": "execute_result"
    }
   ],
   "source": [
    "d.shape\n",
    "#6 is size of array"
   ]
  },
  {
   "cell_type": "code",
   "execution_count": 17,
   "id": "971865c0-4bf5-4ed9-8b7e-f5249ed940e8",
   "metadata": {},
   "outputs": [
    {
     "data": {
      "text/plain": [
       "1"
      ]
     },
     "execution_count": 17,
     "metadata": {},
     "output_type": "execute_result"
    }
   ],
   "source": [
    "d.ndim\n",
    "#n-dimensions"
   ]
  },
  {
   "cell_type": "code",
   "execution_count": 19,
   "id": "b46d47b5-7f03-49dc-9caa-0529c32002f1",
   "metadata": {},
   "outputs": [
    {
     "data": {
      "text/plain": [
       "6"
      ]
     },
     "execution_count": 19,
     "metadata": {},
     "output_type": "execute_result"
    }
   ],
   "source": [
    "d.size"
   ]
  },
  {
   "cell_type": "code",
   "execution_count": 21,
   "id": "fa9a721b-ce81-4841-9b71-b545d69ce51b",
   "metadata": {},
   "outputs": [
    {
     "data": {
      "text/plain": [
       "[[7, 5, 6, 8, 2, 4],\n",
       " [21, 56, 78, 97, 52, 55],\n",
       " [22, 33, 44, 55, 66, 77],\n",
       " [23, 34, 45, 56, 67, 78]]"
      ]
     },
     "execution_count": 21,
     "metadata": {},
     "output_type": "execute_result"
    }
   ],
   "source": [
    "#nested list\n",
    "s=[[7,5,6,8,2,4],[21,56,78,97,52,55],[22,33,44,55,66,77],[23,34,45,56,67,78]]\n",
    "s"
   ]
  },
  {
   "cell_type": "code",
   "execution_count": 31,
   "id": "de8d5ce5-842a-489c-af99-90e8d2ec4683",
   "metadata": {},
   "outputs": [],
   "source": [
    "ar=np.array(s)"
   ]
  },
  {
   "cell_type": "code",
   "execution_count": 33,
   "id": "6522bafe-cce4-495b-aa37-35f1d4127463",
   "metadata": {},
   "outputs": [
    {
     "data": {
      "text/plain": [
       "(4, 6)"
      ]
     },
     "execution_count": 33,
     "metadata": {},
     "output_type": "execute_result"
    }
   ],
   "source": [
    "ar.shape"
   ]
  },
  {
   "cell_type": "code",
   "execution_count": 35,
   "id": "decaca11-02ea-453f-b539-1eaf1513198c",
   "metadata": {},
   "outputs": [
    {
     "data": {
      "text/plain": [
       "2"
      ]
     },
     "execution_count": 35,
     "metadata": {},
     "output_type": "execute_result"
    }
   ],
   "source": [
    "ar.ndim"
   ]
  },
  {
   "cell_type": "code",
   "execution_count": 39,
   "id": "6ab853f5-7d16-4004-b68a-3add4a512e99",
   "metadata": {},
   "outputs": [
    {
     "data": {
      "text/plain": [
       "24"
      ]
     },
     "execution_count": 39,
     "metadata": {},
     "output_type": "execute_result"
    }
   ],
   "source": [
    "ar.size"
   ]
  },
  {
   "cell_type": "code",
   "execution_count": 43,
   "id": "f78b1407-9d1a-4e0a-aba3-777aefefb868",
   "metadata": {},
   "outputs": [],
   "source": [
    "#changing dimensions only with the available dimensions\n",
    "h=ar.reshape(6,4)"
   ]
  },
  {
   "cell_type": "markdown",
   "id": "95f5b97e-9c8e-471d-9e59-bfeb2f02b042",
   "metadata": {},
   "source": [
    "h"
   ]
  },
  {
   "cell_type": "code",
   "execution_count": 47,
   "id": "d88c3e6e-e731-4915-8ea7-dd560ada48ca",
   "metadata": {},
   "outputs": [
    {
     "data": {
      "text/plain": [
       "24"
      ]
     },
     "execution_count": 47,
     "metadata": {},
     "output_type": "execute_result"
    }
   ],
   "source": [
    "h.size"
   ]
  },
  {
   "cell_type": "code",
   "execution_count": 49,
   "id": "a95f4200-c36d-4012-aa1a-0a0d23156220",
   "metadata": {},
   "outputs": [
    {
     "data": {
      "text/plain": [
       "range(6, 4)"
      ]
     },
     "execution_count": 49,
     "metadata": {},
     "output_type": "execute_result"
    }
   ],
   "source": [
    "#range function?\n",
    "#we cant use flaot values in range fn\n",
    "range(6,4)"
   ]
  },
  {
   "cell_type": "code",
   "execution_count": 55,
   "id": "9e76dff7-e70e-4285-bf06-c88147fe1f28",
   "metadata": {},
   "outputs": [
    {
     "data": {
      "text/plain": [
       "(5, 55)"
      ]
     },
     "execution_count": 55,
     "metadata": {},
     "output_type": "execute_result"
    }
   ],
   "source": [
    "tuple(range(5,100,50))"
   ]
  },
  {
   "cell_type": "code",
   "execution_count": 63,
   "id": "8820df3d-00e2-421b-a4e9-a5743a601b05",
   "metadata": {},
   "outputs": [
    {
     "data": {
      "text/plain": [
       "[-1, -2, -3, -4, -5, -6, -7, -8, -9]"
      ]
     },
     "execution_count": 63,
     "metadata": {},
     "output_type": "execute_result"
    }
   ],
   "source": [
    "list(range(-1,-10,-1))"
   ]
  },
  {
   "cell_type": "code",
   "execution_count": null,
   "id": "3d8aa53e-9f3d-4792-bb38-56739977552a",
   "metadata": {},
   "outputs": [],
   "source": [
    "#arranging numbers in even place with odd places and viceversa\n",
    "x=[]\n",
    "y=[]\n",
    "for i in range(len(j)):\n",
    "    if i%2=0:\n",
    "    x.append(j[i])\n",
    "else:\n",
    "    y.append(j[i])"
   ]
  }
 ],
 "metadata": {
  "kernelspec": {
   "display_name": "Python [conda env:base]",
   "language": "python",
   "name": "conda-base-py"
  },
  "language_info": {
   "codemirror_mode": {
    "name": "ipython",
    "version": 3
   },
   "file_extension": ".py",
   "mimetype": "text/x-python",
   "name": "python",
   "nbconvert_exporter": "python",
   "pygments_lexer": "ipython3",
   "version": "3.12.7"
  }
 },
 "nbformat": 4,
 "nbformat_minor": 5
}
