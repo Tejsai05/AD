{
 "cells": [
  {
   "cell_type": "code",
   "execution_count": 4,
   "id": "b7a368ff-1d81-477f-b78c-e7cb2348021c",
   "metadata": {},
   "outputs": [
    {
     "data": {
      "text/plain": [
       "array([10, 20, 30, 40, 50, 60])"
      ]
     },
     "execution_count": 4,
     "metadata": {},
     "output_type": "execute_result"
    }
   ],
   "source": [
    "import numpy as np\n",
    "t=[10,20,30,40,50,60]\n",
    "arr=np.array(t)\n",
    "arr"
   ]
  },
  {
   "cell_type": "code",
   "execution_count": 10,
   "id": "9c10f668-feec-41be-b655-7f6000d06767",
   "metadata": {},
   "outputs": [
    {
     "data": {
      "text/plain": [
       "35.0"
      ]
     },
     "execution_count": 10,
     "metadata": {},
     "output_type": "execute_result"
    }
   ],
   "source": [
    "np.mean(arr)"
   ]
  },
  {
   "cell_type": "code",
   "execution_count": 12,
   "id": "ffd6b936-edf9-40ab-bfd1-5c1e302587ae",
   "metadata": {},
   "outputs": [
    {
     "data": {
      "text/plain": [
       "35.0"
      ]
     },
     "execution_count": 12,
     "metadata": {},
     "output_type": "execute_result"
    }
   ],
   "source": [
    "np.median(arr)"
   ]
  },
  {
   "cell_type": "code",
   "execution_count": 16,
   "id": "782af505-ca7a-4613-bc36-ee914343c723",
   "metadata": {},
   "outputs": [
    {
     "data": {
      "text/plain": [
       "291.6666666666667"
      ]
     },
     "execution_count": 16,
     "metadata": {},
     "output_type": "execute_result"
    }
   ],
   "source": [
    "np.var(arr)"
   ]
  },
  {
   "cell_type": "code",
   "execution_count": 18,
   "id": "13271d00-da77-4c3a-8f89-12f0d34d1c5c",
   "metadata": {},
   "outputs": [
    {
     "data": {
      "text/plain": [
       "17.07825127659933"
      ]
     },
     "execution_count": 18,
     "metadata": {},
     "output_type": "execute_result"
    }
   ],
   "source": [
    "np.std(arr)"
   ]
  },
  {
   "cell_type": "code",
   "execution_count": 20,
   "id": "11f9c3b4-7759-43d6-a3a9-a73fe6724402",
   "metadata": {},
   "outputs": [
    {
     "data": {
      "text/plain": [
       "60"
      ]
     },
     "execution_count": 20,
     "metadata": {},
     "output_type": "execute_result"
    }
   ],
   "source": [
    "np.max(arr)"
   ]
  },
  {
   "cell_type": "code",
   "execution_count": 22,
   "id": "36bb9a34-043e-4400-8cc3-501a24f80a1b",
   "metadata": {},
   "outputs": [
    {
     "data": {
      "text/plain": [
       "10"
      ]
     },
     "execution_count": 22,
     "metadata": {},
     "output_type": "execute_result"
    }
   ],
   "source": [
    "np.min(arr)"
   ]
  },
  {
   "cell_type": "code",
   "execution_count": 32,
   "id": "b11f7a4f-465f-471c-9186-eafa4eaca76e",
   "metadata": {},
   "outputs": [
    {
     "data": {
      "text/plain": [
       "22.5"
      ]
     },
     "execution_count": 32,
     "metadata": {},
     "output_type": "execute_result"
    }
   ],
   "source": [
    "\"\"\"a=[1,2,3,4,5]\n",
    "median(q1)=3\n",
    "quartile(q2)=1+2/2\n",
    "q3=4+5/2\"\"\"\n",
    "np.quantile(arr,0.25)\n",
    "#0.25,0.5,0.75"
   ]
  },
  {
   "cell_type": "code",
   "execution_count": 44,
   "id": "c09b13ad-0046-44bb-a36e-ac0b3d0a550b",
   "metadata": {},
   "outputs": [
    {
     "data": {
      "text/plain": [
       "array([[0.60396898, 0.95406263, 0.95901837],\n",
       "       [0.51342301, 0.15576971, 0.94604404]])"
      ]
     },
     "execution_count": 44,
     "metadata": {},
     "output_type": "execute_result"
    }
   ],
   "source": [
    "r=np.random.rand(2,3)\n",
    "r"
   ]
  },
  {
   "cell_type": "code",
   "execution_count": 54,
   "id": "a6095128-519d-4aba-858a-2b8a8f477556",
   "metadata": {},
   "outputs": [
    {
     "data": {
      "text/plain": [
       "array([4.51165327, 4.75317356, 4.16617148])"
      ]
     },
     "execution_count": 54,
     "metadata": {},
     "output_type": "execute_result"
    }
   ],
   "source": [
    "l=np.random.rand(5,2,3)\n",
    "l\n",
    "#2,3  are dimensions"
   ]
  },
  {
   "cell_type": "code",
   "execution_count": 64,
   "id": "9d0d9f11-a185-45d6-877a-3136f5ffb5be",
   "metadata": {},
   "outputs": [
    {
     "data": {
      "text/plain": [
       "array([[10.56992749, 13.03031289, 14.8453569 , 10.7830442 ],\n",
       "       [10.72056962, 10.05690571,  9.912201  ,  8.67251008],\n",
       "       [11.4436714 , 12.89972374, 12.08063181,  5.70450807],\n",
       "       [14.41031328,  9.7398328 , 10.74672935, 11.72845998]])"
      ]
     },
     "execution_count": 64,
     "metadata": {},
     "output_type": "execute_result"
    }
   ],
   "source": [
    "n=np.random.normal(10,2,(4,4))\n",
    "n\n",
    "#NORMAL DISB.."
   ]
  },
  {
   "cell_type": "code",
   "execution_count": null,
   "id": "47ef2d2e-577a-4016-a8b2-be3463d6a3b8",
   "metadata": {},
   "outputs": [],
   "source": []
  }
 ],
 "metadata": {
  "kernelspec": {
   "display_name": "Python [conda env:base]",
   "language": "python",
   "name": "conda-base-py"
  },
  "language_info": {
   "codemirror_mode": {
    "name": "ipython",
    "version": 3
   },
   "file_extension": ".py",
   "mimetype": "text/x-python",
   "name": "python",
   "nbconvert_exporter": "python",
   "pygments_lexer": "ipython3",
   "version": "3.12.7"
  }
 },
 "nbformat": 4,
 "nbformat_minor": 5
}
